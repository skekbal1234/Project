{
 "cells": [
  {
   "cell_type": "code",
   "execution_count": 1,
   "metadata": {},
   "outputs": [],
   "source": [
    "import numpy as np"
   ]
  },
  {
   "cell_type": "code",
   "execution_count": 91,
   "metadata": {},
   "outputs": [],
   "source": [
    "def HypTest(mu=0, sigma=0 , xbar=0, n=2, flagTest='hyptest', flagTail='onetail' ):\n",
    "    \n",
    "    alpha = 0.05                                    ## default alpha value\n",
    "    alphaZDict = {'0.05':1.68, '0.025':1.96}        ## z look up table\n",
    "    alphaTDict = {'0.05':{'15':1.753,'16':1.746,'17':1.74,\n",
    "                  '18':1.734,'19':1.729}, \n",
    "                  '0.025':{'15':2.131,'16':2.120,'17':2.110,\n",
    "                  '18':2.101,'19':2.093}}           ## t look up table\n",
    "    \n",
    "    try:\n",
    "        if flagTest == 'pointEst':                  ## point estimator\n",
    "            return f'Point Estimate is {xbar}'\n",
    "                  \n",
    "        statValue = (xbar - mu) / (sigma / np.sqrt(n))\n",
    "\n",
    "        if n > 1 and n < 30:                        ## t-test\n",
    "            if flagTest == 'hyptest':               ## hypothesis test\n",
    "                \n",
    "                if flagTail == 'onetail':           ## H0 is always <= mu\n",
    "                    print(f'tStat: {statValue:.2f}, tAlpha: {alphaTDict[str(alpha)][str(n-1)]:.2f}')\n",
    "                    if statValue > alphaTDict[str(alpha)][str(n-1)]:\n",
    "                        return 'HypTest: Null Hyp Rejected!'\n",
    "                    else:\n",
    "                        return f'HypTest: Null Hyp Selected!'\n",
    "                    \n",
    "                elif flagTail == 'twotail':\n",
    "                    print(f'tStat: {statValue:.2f}, tAlpha: {alphaTDict[str(alpha/2)][str(n-1)]:.2f}')\n",
    "                    if statValue > alphaTDict[str(alpha/2)][str(n-1)] or statValue < -alphaTDict[str(alpha/2)][str(n-1)]:\n",
    "                        return 'HypTest: Null Hyp Rejected!'\n",
    "                    else:\n",
    "                        return 'HypTest: Null Hyp Selected!'\n",
    "\n",
    "            elif flagTest == 'intervalEst':         ## interval estimator\n",
    "                marginOfError = alphaTDict[str(alpha/2)][str(n-1)] * sigma / np.sqrt(n)\n",
    "                return f'Interval Estimate of mu is {xbar-marginOfError} to {xbar+marginOfError}'\n",
    "        \n",
    "        elif n >= 30:                               ## z-test\n",
    "            if flagTest == 'hyptest':               ## hypothesis test\n",
    "                \n",
    "                if flagTail == 'onetail':           ## H0 is always <= mu\n",
    "                    print(f'ZStat: {statValue:.2f}, ZAlpha: {alphaZDict[str(alpha)]:.2f}')\n",
    "                    if statValue > alphaZDict[str(alpha)]:\n",
    "                        return 'HypTest: Null Hyp Rejected!'\n",
    "                    else:\n",
    "                        return 'HypTest: Null Hyp Selected!'\n",
    "                    \n",
    "                elif flagTail == 'twotail':\n",
    "                    print(f'ZStat: {statValue:.2f}, ZAlpha: {alphaZDict[str(alpha/2)]:.2f}')\n",
    "                    if statValue > alphaZDict[str(alpha/2)] or statValue < -alphaZDict[str(alpha/2)]:\n",
    "                        return 'HypTest: Null Hyp Rejected!'\n",
    "                    else:\n",
    "                        return 'HypTest: Null Hyp Selected!'\n",
    "\n",
    "            elif flagTest == 'intervalEst':         ## interval estimator\n",
    "                marginOfError = alphaZDict[str(alpha/2)] * sigma / np.sqrt(n)\n",
    "                return f'Interval Estimate of mu is {xbar-marginOfError} to {xbar+marginOfError}'\n",
    "\n",
    "        else:\n",
    "            raise Exception('Please enter valid sample size (n >= 2) !')\n",
    "    \n",
    "    except Exception as e:\n",
    "        print(f'Error: {e}')\n",
    "        "
   ]
  },
  {
   "cell_type": "code",
   "execution_count": 73,
   "metadata": {},
   "outputs": [
    {
     "data": {
      "text/plain": [
       "'Interval Estimate of mu is 39630.0 to 42570.0'"
      ]
     },
     "execution_count": 73,
     "metadata": {},
     "output_type": "execute_result"
    }
   ],
   "source": [
    "HypTest(sigma=4500, xbar=41100, n=36, flagTest='intervalEst')"
   ]
  },
  {
   "cell_type": "code",
   "execution_count": 74,
   "metadata": {},
   "outputs": [
    {
     "data": {
      "text/plain": [
       "'Interval Estimate of mu is 720.69875 to 779.30125'"
      ]
     },
     "execution_count": 74,
     "metadata": {},
     "output_type": "execute_result"
    }
   ],
   "source": [
    "HypTest(sigma=55, xbar=750, n=16, flagTest='intervalEst')"
   ]
  },
  {
   "cell_type": "code",
   "execution_count": 75,
   "metadata": {
    "scrolled": true
   },
   "outputs": [
    {
     "name": "stdout",
     "output_type": "stream",
     "text": [
      "ZStat: 2.47, ZAlpha: 1.68\n"
     ]
    },
    {
     "data": {
      "text/plain": [
       "'HypTest: Null Hyp Rejected!'"
      ]
     },
     "execution_count": 75,
     "metadata": {},
     "output_type": "execute_result"
    }
   ],
   "source": [
    "HypTest(mu=12, sigma=3.2, xbar=13.25, n=40)   ##default is hyp test & one tail"
   ]
  },
  {
   "cell_type": "code",
   "execution_count": 78,
   "metadata": {},
   "outputs": [
    {
     "name": "stdout",
     "output_type": "stream",
     "text": [
      "ZStat: 2.74, ZAlpha: 1.96\n"
     ]
    },
    {
     "data": {
      "text/plain": [
       "'HypTest: Null Hyp Rejected!'"
      ]
     },
     "execution_count": 78,
     "metadata": {},
     "output_type": "execute_result"
    }
   ],
   "source": [
    "HypTest(mu=6, sigma=0.2, xbar=6.1, n=30, flagTail='twotail')   ##default is hyp test"
   ]
  },
  {
   "cell_type": "code",
   "execution_count": 92,
   "metadata": {},
   "outputs": [
    {
     "name": "stdout",
     "output_type": "stream",
     "text": [
      "tStat: 1.14, tAlpha: 1.75\n"
     ]
    },
    {
     "data": {
      "text/plain": [
       "'HypTest: Null Hyp Selected!'"
      ]
     },
     "execution_count": 92,
     "metadata": {},
     "output_type": "execute_result"
    }
   ],
   "source": [
    "HypTest(mu=65, sigma=4.2, xbar=66.2, n=16)   ##default is hyp test & one tail"
   ]
  },
  {
   "cell_type": "code",
   "execution_count": 94,
   "metadata": {},
   "outputs": [
    {
     "name": "stdout",
     "output_type": "stream",
     "text": [
      "tStat: 1.14, tAlpha: 2.13\n"
     ]
    },
    {
     "data": {
      "text/plain": [
       "'HypTest: Null Hyp Selected!'"
      ]
     },
     "execution_count": 94,
     "metadata": {},
     "output_type": "execute_result"
    }
   ],
   "source": [
    "HypTest(mu=65, sigma=4.2, xbar=66.2, n=16, flagTail='twotail')   ##default is hyp test"
   ]
  },
  {
   "cell_type": "code",
   "execution_count": null,
   "metadata": {},
   "outputs": [],
   "source": []
  }
 ],
 "metadata": {
  "kernelspec": {
   "display_name": "Python 3 (ipykernel)",
   "language": "python",
   "name": "python3"
  },
  "language_info": {
   "codemirror_mode": {
    "name": "ipython",
    "version": 3
   },
   "file_extension": ".py",
   "mimetype": "text/x-python",
   "name": "python",
   "nbconvert_exporter": "python",
   "pygments_lexer": "ipython3",
   "version": "3.9.13"
  }
 },
 "nbformat": 4,
 "nbformat_minor": 4
}
